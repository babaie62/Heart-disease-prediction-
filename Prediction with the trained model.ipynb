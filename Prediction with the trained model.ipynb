{
 "cells": [
  {
   "cell_type": "markdown",
   "id": "e0582dad",
   "metadata": {},
   "source": [
    "## model calls"
   ]
  },
  {
   "cell_type": "code",
   "execution_count": 1,
   "id": "47abbbc4",
   "metadata": {},
   "outputs": [],
   "source": [
    "import pickle\n",
    "import pandas as pd\n"
   ]
  },
  {
   "cell_type": "markdown",
   "id": "086179e6",
   "metadata": {},
   "source": [
    "## Recal_datatset"
   ]
  },
  {
   "cell_type": "code",
   "execution_count": 3,
   "id": "6764a5ba",
   "metadata": {},
   "outputs": [],
   "source": [
    "dataset = pd.read_csv('heart.csv')\n",
    "dataset = pd.get_dummies(dataset, columns = ['sex', 'cp', 'fbs', 'restecg', 'exang', 'slope', 'ca', 'thal'])\n",
    "y = dataset['target']\n",
    "X = dataset.drop(['target'], axis = 1)"
   ]
  },
  {
   "cell_type": "code",
   "execution_count": 24,
   "id": "dcb28f88",
   "metadata": {},
   "outputs": [
    {
     "data": {
      "text/plain": [
       "0"
      ]
     },
     "execution_count": 24,
     "metadata": {},
     "output_type": "execute_result"
    }
   ],
   "source": [
    "y.head(10)[0]"
   ]
  },
  {
   "cell_type": "markdown",
   "id": "90c80f37",
   "metadata": {},
   "source": [
    "# Predict_KNN"
   ]
  },
  {
   "cell_type": "code",
   "execution_count": 25,
   "id": "e79aa806",
   "metadata": {},
   "outputs": [
    {
     "name": "stdout",
     "output_type": "stream",
     "text": [
      "1\n"
     ]
    }
   ],
   "source": [
    "loaded_model_knn = pickle.load(open('Knn_model.sav', 'rb'))\n",
    "print(loaded_model_knn.predict(X.head(10))[0])"
   ]
  },
  {
   "cell_type": "code",
   "execution_count": 26,
   "id": "a7b4a7dc",
   "metadata": {},
   "outputs": [
    {
     "name": "stdout",
     "output_type": "stream",
     "text": [
      "0.5102439024390244\n"
     ]
    }
   ],
   "source": [
    "result_knn = loaded_model_knn.score(X, y)\n",
    "print(result_knn)"
   ]
  },
  {
   "cell_type": "markdown",
   "id": "3412da88",
   "metadata": {},
   "source": [
    "# Predict_DT"
   ]
  },
  {
   "cell_type": "code",
   "execution_count": 27,
   "id": "8aff5a46",
   "metadata": {},
   "outputs": [
    {
     "name": "stdout",
     "output_type": "stream",
     "text": [
      "0\n"
     ]
    }
   ],
   "source": [
    "loaded_model_DT = pickle.load(open('DT_model.sav', 'rb'))\n",
    "print(loaded_model_DT.predict(X.head(10))[0])"
   ]
  },
  {
   "cell_type": "code",
   "execution_count": 28,
   "id": "507d2400",
   "metadata": {},
   "outputs": [
    {
     "name": "stdout",
     "output_type": "stream",
     "text": [
      "0.7717073170731708\n"
     ]
    }
   ],
   "source": [
    "result_DT = loaded_model_DT.score(X, y)\n",
    "print(result_DT)"
   ]
  },
  {
   "cell_type": "markdown",
   "id": "ee1e4ace",
   "metadata": {},
   "source": [
    "# Predict_RF"
   ]
  },
  {
   "cell_type": "code",
   "execution_count": 29,
   "id": "8e78ce03",
   "metadata": {},
   "outputs": [
    {
     "name": "stdout",
     "output_type": "stream",
     "text": [
      "0\n"
     ]
    }
   ],
   "source": [
    "loaded_model_RF = pickle.load(open('RF_model.sav', 'rb'))\n",
    "print(loaded_model_RF.predict(X.head(10))[0])"
   ]
  },
  {
   "cell_type": "code",
   "execution_count": 30,
   "id": "7811b979",
   "metadata": {},
   "outputs": [
    {
     "name": "stdout",
     "output_type": "stream",
     "text": [
      "0.9004878048780488\n"
     ]
    }
   ],
   "source": [
    "result_DT = loaded_model_RF.score(X, y)\n",
    "print(result_DT)"
   ]
  },
  {
   "cell_type": "markdown",
   "id": "e883e3fa",
   "metadata": {},
   "source": [
    "# Predict_SV"
   ]
  },
  {
   "cell_type": "code",
   "execution_count": 31,
   "id": "9bdd9d8d",
   "metadata": {},
   "outputs": [
    {
     "name": "stdout",
     "output_type": "stream",
     "text": [
      "1\n"
     ]
    }
   ],
   "source": [
    "loaded_model_SV = pickle.load(open('SV_model.sav', 'rb'))\n",
    "print(loaded_model_SV.predict(X.head(10))[0])"
   ]
  },
  {
   "cell_type": "code",
   "execution_count": 32,
   "id": "ecb640db",
   "metadata": {},
   "outputs": [
    {
     "name": "stdout",
     "output_type": "stream",
     "text": [
      "0.5131707317073171\n"
     ]
    }
   ],
   "source": [
    "result_SV = loaded_model_SV.score(X, y)\n",
    "print(result_SV)"
   ]
  },
  {
   "cell_type": "code",
   "execution_count": null,
   "id": "733b173d",
   "metadata": {},
   "outputs": [],
   "source": []
  }
 ],
 "metadata": {
  "kernelspec": {
   "display_name": "Python 3 (ipykernel)",
   "language": "python",
   "name": "python3"
  },
  "language_info": {
   "codemirror_mode": {
    "name": "ipython",
    "version": 3
   },
   "file_extension": ".py",
   "mimetype": "text/x-python",
   "name": "python",
   "nbconvert_exporter": "python",
   "pygments_lexer": "ipython3",
   "version": "3.9.12"
  }
 },
 "nbformat": 4,
 "nbformat_minor": 5
}
